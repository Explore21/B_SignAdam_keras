{
 "cells": [
  {
   "cell_type": "code",
   "execution_count": 1,
   "metadata": {},
   "outputs": [
    {
     "name": "stderr",
     "output_type": "stream",
     "text": [
      "Using TensorFlow backend.\n"
     ]
    }
   ],
   "source": [
    " #from keras.preprocessing.image import ImageDataGenerator\n",
    "import tensorflow as tf\n",
    "from keras.models import Sequential, load_model\n",
    "from keras.layers import Conv2D, MaxPooling2D\n",
    "from keras.layers import Activation, Dropout, Flatten, Dense, Lambda, Multiply,GlobalAveragePooling2D\n",
    "from keras import backend as K\n",
    "import cv2, numpy as np\n",
    "import glob\n",
    "from keras.optimizers import SGD, Adam\n",
    "from keras.activations import relu \n",
    "import keras as keras\n",
    "from keras.models import Model,load_model\n",
    "from keras.layers import  Input,Conv2D,BatchNormalization,Activation,Lambda,Subtract,concatenate,Add,add,Reshape\n",
    "\n",
    "from keras.layers import Input, concatenate, Conv2D, MaxPooling2D, Conv2DTranspose,DepthwiseConv2D,Concatenate\n",
    "from keras.optimizers import Adam\n",
    "from keras.callbacks import ModelCheckpoint\n",
    "from keras import losses\n",
    "from keras.layers import  Layer,Activation, Lambda, MaxPooling2D, UpSampling2D, Conv2DTranspose, SpatialDropout2D\n",
    "import os\n",
    "from keras.callbacks import ModelCheckpoint, LearningRateScheduler\n",
    "from keras.callbacks import ReduceLROnPlateau\n",
    "from keras.callbacks import EarlyStopping \n",
    "from keras.callbacks import EarlyStopping, ModelCheckpoint, TensorBoard\n",
    "from  sklearn.model_selection import train_test_split\n",
    "\n",
    "#from tensorflow.python import debug as tf_debug\n",
    "import imageio\n",
    "import glob\n",
    "from skimage import transform as tf\n",
    "from keras.losses import mse, binary_crossentropy\n",
    "\n",
    "\n",
    "from scipy import ndimage\n",
    "import matplotlib.pyplot as plt\n",
    "import matplotlib.image as plt_img\n",
    "import scipy\n",
    "import scipy\n",
    "import skimage\n",
    "import re\n",
    "#import LRFinder\n",
    "import math as m\n",
    "import tensorflow as tf \n",
    "from keras.callbacks import ModelCheckpoint, ReduceLROnPlateau, LearningRateScheduler \n",
    "from keras import backend as K\n",
    "from pathlib import Path\n",
    "from keras import objectives\n",
    "\n",
    "from keras import optimizers\n",
    "\n",
    "import numpy as np\n",
    " \n",
    "from keras import backend as K\n",
    "from skimage.measure import compare_ssim, compare_psnr\n",
    "\n",
    "from keras.utils import to_categorical\n",
    "\n",
    "import cv2\n",
    "import numpy as np\n",
    "import matplotlib\n",
    "from matplotlib import pyplot as plt\n",
    "\n",
    "tf.random.Generator = None \n",
    "import tensorflow_addons as tfa\n",
    "from keras.datasets import  mnist, fashion_mnist\n",
    "\n",
    "import warnings\n",
    "warnings.filterwarnings('ignore')\n",
    "from keras.models import Model\n",
    "from keras.utils import to_categorical\n",
    "\n",
    "\n",
    "from datetime import datetime\n",
    "from scipy.fftpack import dct, idct\n",
    "import copy"
   ]
  },
  {
   "cell_type": "code",
   "execution_count": null,
   "metadata": {},
   "outputs": [],
   "source": []
  },
  {
   "cell_type": "code",
   "execution_count": 2,
   "metadata": {},
   "outputs": [],
   "source": [
    "(x_train, y_train), (X_test, Y_test) = tf.keras.datasets.cifar10.load_data()"
   ]
  },
  {
   "cell_type": "code",
   "execution_count": 3,
   "metadata": {},
   "outputs": [
    {
     "name": "stdout",
     "output_type": "stream",
     "text": [
      "50000 50000 10000 10000\n"
     ]
    }
   ],
   "source": [
    "print(len(x_train), len(y_train),  len(X_test), len(Y_test))"
   ]
  },
  {
   "cell_type": "code",
   "execution_count": 4,
   "metadata": {},
   "outputs": [
    {
     "name": "stdout",
     "output_type": "stream",
     "text": [
      "(50000, 10) (10000, 10)\n"
     ]
    }
   ],
   "source": [
    "num_labels = len(np.unique(y_train))\n",
    "y_train = to_categorical(y_train)\n",
    "Y_test = to_categorical(Y_test)\n",
    "\n",
    "print(y_train.shape, Y_test.shape)"
   ]
  },
  {
   "cell_type": "code",
   "execution_count": 5,
   "metadata": {},
   "outputs": [
    {
     "name": "stdout",
     "output_type": "stream",
     "text": [
      "(50000, 32, 32, 3) (10000, 32, 32, 3)\n"
     ]
    }
   ],
   "source": [
    "image_size = x_train.shape[1]\n",
    "\n",
    "x_train = np.reshape(x_train,[-1, image_size, image_size, 3])\n",
    "X_test = np.reshape(X_test,[-1, image_size, image_size, 3])\n",
    "\n",
    "x_train = x_train.astype('float32') / 255\n",
    "X_test = X_test.astype('float32') / 255\n",
    "\n",
    "print(x_train.shape, X_test.shape)"
   ]
  },
  {
   "cell_type": "code",
   "execution_count": 6,
   "metadata": {},
   "outputs": [],
   "source": [
    " \n",
    "x_val=X_test[:8000]\n",
    "y_val=Y_test[:8000]\n",
    "x_test=X_test[8001:]\n",
    "y_test=Y_test[8001:]"
   ]
  },
  {
   "cell_type": "code",
   "execution_count": 7,
   "metadata": {},
   "outputs": [],
   "source": [
    "# network parameters\n",
    "input_shape = (image_size, image_size, 3)\n",
    "batch_size = 128\n",
    "kernel_size = 3\n",
    "filters = 64\n",
    "dropout = 0.3"
   ]
  },
  {
   "cell_type": "code",
   "execution_count": 8,
   "metadata": {},
   "outputs": [],
   "source": [
    "def conv_block(units, dropout=0.2, activation='relu', block=1, layer=1):\n",
    "\n",
    "    def layer_wrapper(inp):\n",
    "        x = Conv2D(units, (3, 3), padding='same', name='block{}_conv{}'.format(block, layer))(inp)\n",
    "        x = BatchNormalization(name='block{}_bn{}'.format(block, layer))(x)\n",
    "        x = Activation(activation, name='block{}_act{}'.format(block, layer))(x)\n",
    "        x = Dropout(dropout, name='block{}_dropout{}'.format(block, layer))(x)\n",
    "        return x\n",
    "\n",
    "    return layer_wrapper\n",
    "\n",
    "def dense_block(units, dropout=0.2, activation='relu', name='fc1'):\n",
    "\n",
    "    def layer_wrapper(inp):\n",
    "        x = Dense(units, name=name)(inp)\n",
    "        x = BatchNormalization(name='{}_bn'.format(name))(x)\n",
    "        x = Activation(activation, name='{}_act'.format(name))(x)\n",
    "        x = Dropout(dropout, name='{}_dropout'.format(name))(x)\n",
    "        return x\n",
    "\n",
    "    return layer_wrapper\n",
    "        \n",
    "\n",
    "def VGG16_BN(input_tensor=None, input_shape=None, classes=1000, conv_dropout=0.1, dropout=0.3, activation='relu'):\n",
    "    \"\"\"Instantiates the VGG16 architecture with Batch Normalization\n",
    "    # Arguments\n",
    "        input_tensor: Keras tensor (i.e. output of `layers.Input()`) to use as image input for the model.\n",
    "        input_shape: shape tuple\n",
    "        classes: optional number of classes to classify images\n",
    "    # Returns\n",
    "        A Keras model instance.\n",
    "    \"\"\"\n",
    "    img_input = Input(shape=input_shape) if input_tensor is None else (\n",
    "        Input(tensor=input_tensor, shape=input_shape) if not K.is_keras_tensor(input_tensor) else input_tensor\n",
    "    )\n",
    "\n",
    "    # Block 1\n",
    "    x = conv_block(32, dropout=conv_dropout, activation=activation, block=1, layer=1)(img_input)\n",
    "    x = conv_block(32, dropout=conv_dropout, activation=activation, block=1, layer=2)(x)\n",
    "    x = MaxPooling2D((2, 2), strides=(2, 2), name='block1_pool')(x)\n",
    "\n",
    "    # Block 2\n",
    "    x = conv_block(64, dropout=conv_dropout, activation=activation, block=2, layer=1)(x)\n",
    "    x = conv_block(64, dropout=conv_dropout, activation=activation, block=2, layer=2)(x)\n",
    "    x = MaxPooling2D((2, 2), strides=(2, 2), name='block2_pool')(x)\n",
    "\n",
    "    # Block 3\n",
    "    x = conv_block(128, dropout=conv_dropout, activation=activation, block=3, layer=1)(x)\n",
    "    x = conv_block(128, dropout=conv_dropout, activation=activation, block=3, layer=2)(x)\n",
    "    x = conv_block(128, dropout=conv_dropout, activation=activation, block=3, layer=3)(x)\n",
    "    x = MaxPooling2D((2, 2), strides=(2, 2), name='block3_pool')(x)\n",
    "\n",
    "    # Block 4\n",
    "    x = conv_block(256, dropout=conv_dropout, activation=activation, block=4, layer=1)(x)\n",
    "    x = conv_block(256, dropout=conv_dropout, activation=activation, block=4, layer=2)(x)\n",
    "    x = conv_block(256, dropout=conv_dropout, activation=activation, block=4, layer=3)(x)\n",
    "    x = MaxPooling2D((2, 2), strides=(2, 2), name='block4_pool')(x)\n",
    "\n",
    "    # Block 5\n",
    "    x = conv_block(256, dropout=conv_dropout, activation=activation, block=5, layer=1)(x)\n",
    "    x = conv_block(256, dropout=conv_dropout, activation=activation, block=5, layer=2)(x)\n",
    "    x = conv_block(256, dropout=conv_dropout, activation=activation, block=5, layer=3)(x)\n",
    "    x = MaxPooling2D((2, 2), strides=(2, 2), name='block5_pool')(x)\n",
    "\n",
    "    # Flatten\n",
    "    x = GlobalAveragePooling2D()(x)\n",
    "\n",
    "    # FC Layers\n",
    "    x = dense_block(512, dropout=dropout, activation=activation, name='fc1')(x)\n",
    "    x = dense_block(512, dropout=dropout, activation=activation, name='fc2')(x)\n",
    "    \n",
    "    # Classification block    \n",
    "    x = Dense(classes, activation='softmax', name='predictions')(x)\n",
    "\n",
    "    # Ensure that the model takes into account any potential predecessors of `input_tensor`.\n",
    "    inputs = get_source_inputs(input_tensor) if input_tensor is not None else img_input\n",
    "\n",
    "    # Create model.\n",
    "    return Model(inputs, x, name='vgg16_bn')"
   ]
  },
  {
   "cell_type": "code",
   "execution_count": 9,
   "metadata": {},
   "outputs": [],
   "source": [
    "from keras.models import Model\n",
    "\n",
    "inputs = Input(shape=input_shape)\n",
    "y = Conv2D(filters=filters,kernel_size=kernel_size,activation='relu')(inputs)\n",
    "y = MaxPooling2D()(y)\n",
    "y = Conv2D(filters=filters,kernel_size=kernel_size,activation='relu')(y)\n",
    "y = MaxPooling2D()(y)\n",
    "y = Conv2D(filters=filters,kernel_size=kernel_size,activation='relu')(y)\n",
    " \n",
    "y = Flatten()(y)\n",
    " \n",
    "y = Dropout(dropout)(y)\n",
    "outputs = Dense(num_labels, activation='softmax')(y)\n",
    "\n",
    " \n",
    "model = Model(inputs=inputs, outputs=outputs)\n",
    "\n",
    " \n",
    "#model =VGG16_BN(input_tensor=None, input_shape=x_train.shape[1:], classes=10, conv_dropout=0.1, dropout=0.3, activation='relu')\n",
    " \n",
    "#model.summary()"
   ]
  },
  {
   "cell_type": "code",
   "execution_count": 10,
   "metadata": {},
   "outputs": [],
   "source": [
    " \n",
    "from adam_or import Aadam\n",
    "from SignAdam import AdamR\n",
    "\n",
    "o1=AdamR()\n",
    "o2=Aadam()"
   ]
  },
  {
   "cell_type": "code",
   "execution_count": 11,
   "metadata": {},
   "outputs": [],
   "source": [
    "fw=model.get_weights()"
   ]
  },
  {
   "cell_type": "code",
   "execution_count": 12,
   "metadata": {},
   "outputs": [
    {
     "name": "stdout",
     "output_type": "stream",
     "text": [
      "Train on 50000 samples, validate on 1999 samples\n",
      "Epoch 1/30\n",
      "50000/50000 [==============================] - 9s 177us/step - loss: 1.6033 - accuracy: 0.4167 - val_loss: 1.3887 - val_accuracy: 0.5023\n",
      "Epoch 2/30\n",
      "50000/50000 [==============================] - 8s 153us/step - loss: 1.2571 - accuracy: 0.5566 - val_loss: 1.1780 - val_accuracy: 0.5883\n",
      "Epoch 3/30\n",
      "50000/50000 [==============================] - 8s 152us/step - loss: 1.1742 - accuracy: 0.5889 - val_loss: 1.1044 - val_accuracy: 0.6103\n",
      "Epoch 4/30\n",
      "50000/50000 [==============================] - 8s 153us/step - loss: 1.1504 - accuracy: 0.6006 - val_loss: 1.1423 - val_accuracy: 0.5983\n",
      "Epoch 5/30\n",
      "50000/50000 [==============================] - 8s 154us/step - loss: 1.1359 - accuracy: 0.6073 - val_loss: 1.1515 - val_accuracy: 0.5953\n",
      "Epoch 6/30\n",
      "50000/50000 [==============================] - 8s 154us/step - loss: 1.1417 - accuracy: 0.6064 - val_loss: 1.1335 - val_accuracy: 0.6118\n",
      "Epoch 7/30\n",
      "50000/50000 [==============================] - 8s 157us/step - loss: 1.1471 - accuracy: 0.6085 - val_loss: 1.1181 - val_accuracy: 0.6163\n",
      "Epoch 8/30\n",
      "50000/50000 [==============================] - 8s 167us/step - loss: 1.1557 - accuracy: 0.6029 - val_loss: 1.1308 - val_accuracy: 0.5923\n",
      "Epoch 9/30\n",
      "50000/50000 [==============================] - 8s 160us/step - loss: 1.1734 - accuracy: 0.5962 - val_loss: 1.2621 - val_accuracy: 0.5778\n",
      "Epoch 10/30\n",
      "50000/50000 [==============================] - 8s 169us/step - loss: 1.1907 - accuracy: 0.5930 - val_loss: 1.1230 - val_accuracy: 0.6088\n",
      "Epoch 11/30\n",
      "50000/50000 [==============================] - 8s 161us/step - loss: 1.2128 - accuracy: 0.5846 - val_loss: 1.1709 - val_accuracy: 0.5893\n",
      "Epoch 12/30\n",
      "50000/50000 [==============================] - 8s 158us/step - loss: 1.2238 - accuracy: 0.5847 - val_loss: 1.3160 - val_accuracy: 0.5638\n",
      "Epoch 13/30\n",
      "50000/50000 [==============================] - 8s 161us/step - loss: 1.2347 - accuracy: 0.5765 - val_loss: 1.2421 - val_accuracy: 0.5608\n",
      "Epoch 14/30\n",
      "50000/50000 [==============================] - 8s 155us/step - loss: 1.2526 - accuracy: 0.5710 - val_loss: 1.1753 - val_accuracy: 0.5903\n",
      "Epoch 15/30\n",
      "50000/50000 [==============================] - 8s 156us/step - loss: 1.2523 - accuracy: 0.5703 - val_loss: 1.1962 - val_accuracy: 0.5798\n",
      "Epoch 16/30\n",
      "50000/50000 [==============================] - 8s 151us/step - loss: 1.2687 - accuracy: 0.5633 - val_loss: 1.1807 - val_accuracy: 0.5773\n",
      "Epoch 17/30\n",
      "50000/50000 [==============================] - 8s 160us/step - loss: 1.2658 - accuracy: 0.5647 - val_loss: 1.2329 - val_accuracy: 0.5553\n",
      "Epoch 18/30\n",
      "50000/50000 [==============================] - 8s 151us/step - loss: 1.2648 - accuracy: 0.5624 - val_loss: 1.2594 - val_accuracy: 0.5523\n",
      "Epoch 19/30\n",
      "50000/50000 [==============================] - 8s 160us/step - loss: 1.2627 - accuracy: 0.5626 - val_loss: 1.1616 - val_accuracy: 0.5923\n",
      "Epoch 20/30\n",
      "50000/50000 [==============================] - 8s 157us/step - loss: 1.2552 - accuracy: 0.5641 - val_loss: 1.2019 - val_accuracy: 0.5858\n",
      "Epoch 21/30\n",
      "50000/50000 [==============================] - 8s 166us/step - loss: 1.2554 - accuracy: 0.5621 - val_loss: 1.1933 - val_accuracy: 0.5838\n",
      "Epoch 22/30\n",
      "50000/50000 [==============================] - 8s 161us/step - loss: 1.2593 - accuracy: 0.5619 - val_loss: 1.2058 - val_accuracy: 0.5868\n",
      "Epoch 23/30\n",
      "50000/50000 [==============================] - 8s 160us/step - loss: 1.2494 - accuracy: 0.5647 - val_loss: 1.1672 - val_accuracy: 0.5988\n",
      "Epoch 24/30\n",
      "50000/50000 [==============================] - 8s 156us/step - loss: 1.2415 - accuracy: 0.5651 - val_loss: 1.1586 - val_accuracy: 0.5938\n",
      "Epoch 25/30\n",
      "50000/50000 [==============================] - 8s 154us/step - loss: 1.2330 - accuracy: 0.5652 - val_loss: 1.2137 - val_accuracy: 0.5613\n",
      "Epoch 26/30\n",
      "50000/50000 [==============================] - 8s 151us/step - loss: 1.2318 - accuracy: 0.5695 - val_loss: 1.1505 - val_accuracy: 0.5798\n",
      "Epoch 27/30\n",
      "50000/50000 [==============================] - 8s 153us/step - loss: 1.2413 - accuracy: 0.5639 - val_loss: 1.3043 - val_accuracy: 0.5668\n",
      "Epoch 28/30\n",
      "50000/50000 [==============================] - 8s 155us/step - loss: 1.2466 - accuracy: 0.5619 - val_loss: 1.2295 - val_accuracy: 0.5703\n",
      "Epoch 29/30\n",
      "50000/50000 [==============================] - 8s 159us/step - loss: 1.2518 - accuracy: 0.5612 - val_loss: 1.1722 - val_accuracy: 0.5738\n",
      "Epoch 30/30\n",
      "50000/50000 [==============================] - 8s 156us/step - loss: 1.2505 - accuracy: 0.5608 - val_loss: 1.3710 - val_accuracy: 0.5188\n"
     ]
    }
   ],
   "source": [
    "ep=30\n",
    "lra=[5e-3,1e-3,5e-4,1e-4]\n",
    "optimizer = o1\n",
    "\n",
    "\n",
    "weights_dict = {}\n",
    "\n",
    "weight_callback = tf.keras.callbacks.LambdaCallback \\\n",
    "( on_epoch_end=lambda epoch, logs: weights_dict.update({epoch:model.get_weights()}))\n",
    "\n",
    "\n",
    "model.compile(optimizer, loss='categorical_crossentropy', metrics=['accuracy'])\n",
    " \n",
    "\n",
    "\n",
    "hb1=model.fit(x_train,y_train, epochs=ep, validation_data=(x_test, y_test), callbacks = [weight_callback  ])"
   ]
  },
  {
   "cell_type": "code",
   "execution_count": 13,
   "metadata": {},
   "outputs": [],
   "source": [
    "# fw=model.get_weights()\n",
    "# model2=model\n",
    "\n",
    "# model2.set_weights(fw)"
   ]
  },
  {
   "cell_type": "code",
   "execution_count": 14,
   "metadata": {},
   "outputs": [
    {
     "name": "stdout",
     "output_type": "stream",
     "text": [
      "Train on 50000 samples, validate on 1999 samples\n",
      "Epoch 1/30\n",
      "50000/50000 [==============================] - 8s 160us/step - loss: 1.5613 - accuracy: 0.4302 - val_loss: 1.2639 - val_accuracy: 0.5508\n",
      "Epoch 2/30\n",
      "50000/50000 [==============================] - 8s 150us/step - loss: 1.2095 - accuracy: 0.5700 - val_loss: 1.0633 - val_accuracy: 0.6203\n",
      "Epoch 3/30\n",
      "50000/50000 [==============================] - 8s 152us/step - loss: 1.0652 - accuracy: 0.6233 - val_loss: 1.0317 - val_accuracy: 0.6263\n",
      "Epoch 4/30\n",
      "50000/50000 [==============================] - 8s 154us/step - loss: 0.9753 - accuracy: 0.6572 - val_loss: 0.9660 - val_accuracy: 0.6508\n",
      "Epoch 5/30\n",
      "50000/50000 [==============================] - 8s 150us/step - loss: 0.9160 - accuracy: 0.6772 - val_loss: 0.9368 - val_accuracy: 0.6673\n",
      "Epoch 6/30\n",
      "50000/50000 [==============================] - 8s 152us/step - loss: 0.8678 - accuracy: 0.6957 - val_loss: 0.8654 - val_accuracy: 0.7004\n",
      "Epoch 7/30\n",
      "50000/50000 [==============================] - 8s 156us/step - loss: 0.8313 - accuracy: 0.7100 - val_loss: 0.8716 - val_accuracy: 0.6923\n",
      "Epoch 8/30\n",
      "50000/50000 [==============================] - 8s 156us/step - loss: 0.8033 - accuracy: 0.7193 - val_loss: 0.8239 - val_accuracy: 0.7029\n",
      "Epoch 9/30\n",
      "50000/50000 [==============================] - 8s 155us/step - loss: 0.7711 - accuracy: 0.7298 - val_loss: 0.8113 - val_accuracy: 0.7154\n",
      "Epoch 10/30\n",
      "50000/50000 [==============================] - 8s 152us/step - loss: 0.7426 - accuracy: 0.7376 - val_loss: 0.8056 - val_accuracy: 0.7199\n",
      "Epoch 11/30\n",
      "50000/50000 [==============================] - 8s 154us/step - loss: 0.7227 - accuracy: 0.7469 - val_loss: 0.8031 - val_accuracy: 0.7074\n",
      "Epoch 12/30\n",
      "50000/50000 [==============================] - 8s 151us/step - loss: 0.7020 - accuracy: 0.7528 - val_loss: 0.7961 - val_accuracy: 0.7269\n",
      "Epoch 13/30\n",
      "50000/50000 [==============================] - 7s 150us/step - loss: 0.6900 - accuracy: 0.7580 - val_loss: 0.7789 - val_accuracy: 0.7364\n",
      "Epoch 14/30\n",
      "50000/50000 [==============================] - 8s 150us/step - loss: 0.6721 - accuracy: 0.7650 - val_loss: 0.7948 - val_accuracy: 0.7244\n",
      "Epoch 15/30\n",
      "50000/50000 [==============================] - 8s 152us/step - loss: 0.6598 - accuracy: 0.7683 - val_loss: 0.8278 - val_accuracy: 0.7169\n",
      "Epoch 16/30\n",
      "50000/50000 [==============================] - 8s 153us/step - loss: 0.6464 - accuracy: 0.7722 - val_loss: 0.8443 - val_accuracy: 0.7244\n",
      "Epoch 17/30\n",
      "50000/50000 [==============================] - 8s 154us/step - loss: 0.6344 - accuracy: 0.7757 - val_loss: 0.7978 - val_accuracy: 0.7294\n",
      "Epoch 18/30\n",
      "50000/50000 [==============================] - 8s 160us/step - loss: 0.6228 - accuracy: 0.7799 - val_loss: 0.8219 - val_accuracy: 0.7214\n",
      "Epoch 19/30\n",
      "50000/50000 [==============================] - 8s 157us/step - loss: 0.6139 - accuracy: 0.7838 - val_loss: 0.8343 - val_accuracy: 0.7194\n",
      "Epoch 20/30\n",
      "50000/50000 [==============================] - 8s 155us/step - loss: 0.6001 - accuracy: 0.7876 - val_loss: 0.8041 - val_accuracy: 0.7284\n",
      "Epoch 21/30\n",
      "50000/50000 [==============================] - 8s 154us/step - loss: 0.5899 - accuracy: 0.7918 - val_loss: 0.8252 - val_accuracy: 0.7259\n",
      "Epoch 22/30\n",
      "50000/50000 [==============================] - 8s 151us/step - loss: 0.5856 - accuracy: 0.7933 - val_loss: 0.7792 - val_accuracy: 0.7359\n",
      "Epoch 23/30\n",
      "50000/50000 [==============================] - 8s 153us/step - loss: 0.5701 - accuracy: 0.7979 - val_loss: 0.8169 - val_accuracy: 0.7344\n",
      "Epoch 24/30\n",
      "50000/50000 [==============================] - 8s 151us/step - loss: 0.5629 - accuracy: 0.7998 - val_loss: 0.7986 - val_accuracy: 0.7359\n",
      "Epoch 25/30\n",
      "50000/50000 [==============================] - 8s 151us/step - loss: 0.5522 - accuracy: 0.8050 - val_loss: 0.8025 - val_accuracy: 0.7299\n",
      "Epoch 26/30\n",
      "50000/50000 [==============================] - 7s 150us/step - loss: 0.5412 - accuracy: 0.8087 - val_loss: 0.8422 - val_accuracy: 0.7319\n",
      "Epoch 27/30\n",
      "50000/50000 [==============================] - 8s 150us/step - loss: 0.5359 - accuracy: 0.8085 - val_loss: 0.8623 - val_accuracy: 0.7254\n",
      "Epoch 28/30\n",
      "50000/50000 [==============================] - 8s 150us/step - loss: 0.5326 - accuracy: 0.8091 - val_loss: 0.8339 - val_accuracy: 0.7294\n",
      "Epoch 29/30\n",
      "50000/50000 [==============================] - 8s 157us/step - loss: 0.5292 - accuracy: 0.8134 - val_loss: 0.8641 - val_accuracy: 0.7194\n",
      "Epoch 30/30\n",
      "50000/50000 [==============================] - 8s 158us/step - loss: 0.5233 - accuracy: 0.8145 - val_loss: 0.8388 - val_accuracy: 0.7184\n"
     ]
    }
   ],
   "source": [
    "model2=  Model(inputs=inputs, outputs=outputs)\n",
    "optimizer = o2\n",
    "model2.set_weights(fw)\n",
    "\n",
    "weights_dict = {}\n",
    "\n",
    "weight_callback = tf.keras.callbacks.LambdaCallback \\\n",
    "( on_epoch_end=lambda epoch, logs: weights_dict.update({epoch:model.get_weights()}))\n",
    "\n",
    "\n",
    "model2.compile(optimizer, loss='categorical_crossentropy', metrics=['accuracy'])\n",
    " \n",
    "\n",
    "\n",
    "hb2=model2.fit(x_train,y_train, epochs=ep, validation_data=(x_test, y_test), callbacks = [weight_callback  ])"
   ]
  },
  {
   "cell_type": "code",
   "execution_count": 15,
   "metadata": {},
   "outputs": [],
   "source": [
    "h1=hb1.history['accuracy']\n",
    "h2=hb2.history['accuracy']"
   ]
  },
  {
   "cell_type": "code",
   "execution_count": 16,
   "metadata": {},
   "outputs": [
    {
     "data": {
      "image/png": "[encoded data removed]",
      "text/plain": [
       "<Figure size 432x288 with 1 Axes>"
      ]
     },
     "metadata": {
      "needs_background": "light"
     },
     "output_type": "display_data"
    }
   ],
   "source": [
    "plt.plot(h1)\n",
    "plt.plot(h2)\n",
    "plt.title('model accuracy')\n",
    "plt.ylabel('accuracy')\n",
    "plt.xlabel('epoch')\n",
    "plt.legend(['AdamR', 'Adam'], loc='upper left')\n",
    "plt.show()"
   ]
  },
  {
   "cell_type": "code",
   "execution_count": 17,
   "metadata": {},
   "outputs": [],
   "source": [
    "vh1=hb1.history['val_accuracy']\n",
    "vh2=hb2.history['val_accuracy']"
   ]
  },
  {
   "cell_type": "code",
   "execution_count": 18,
   "metadata": {},
   "outputs": [
    {
     "data": {
      "image/png": "[encoded data removed]",
      "text/plain": [
       "<Figure size 432x288 with 1 Axes>"
      ]
     },
     "metadata": {
      "needs_background": "light"
     },
     "output_type": "display_data"
    }
   ],
   "source": [
    "plt.plot(vh1)\n",
    "plt.plot(vh2)\n",
    "plt.title('model accuracy')\n",
    "plt.ylabel('accuracy')\n",
    "plt.xlabel('epoch')\n",
    "plt.legend(['AdamR', 'Adam'], loc='upper left')\n",
    "plt.show()"
   ]
  },
  {
   "cell_type": "code",
   "execution_count": null,
   "metadata": {},
   "outputs": [],
   "source": [
    " "
   ]
  },
  {
   "cell_type": "code",
   "execution_count": null,
   "metadata": {},
   "outputs": [],
   "source": []
  },
  {
   "cell_type": "code",
   "execution_count": null,
   "metadata": {},
   "outputs": [],
   "source": []
  },
  {
   "cell_type": "code",
   "execution_count": null,
   "metadata": {},
   "outputs": [],
   "source": []
  }
 ],
 "metadata": {
  "kernelspec": {
   "display_name": "Python [conda env:Bdeep] *",
   "language": "python",
   "name": "conda-env-Bdeep-py"
  },
  "language_info": {
   "codemirror_mode": {
    "name": "ipython",
    "version": 3
   },
   "file_extension": ".py",
   "mimetype": "text/x-python",
   "name": "python",
   "nbconvert_exporter": "python",
   "pygments_lexer": "ipython3",
   "version": "3.7.9"
  }
 },
 "nbformat": 4,
 "nbformat_minor": 4
}
